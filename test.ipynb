{
 "cells": [
  {
   "cell_type": "code",
   "execution_count": 1,
   "id": "c58e769e-d605-412f-8920-b17eafc16abf",
   "metadata": {},
   "outputs": [],
   "source": [
    "import torch\n",
    "import torchvision\n",
    "from PIL import Image\n",
    "import torchvision.transforms as transforms\n",
    "import numpy as np\n",
    "import json\n",
    "import requests\n",
    "import matplotlib.pyplot as plt\n",
    "\n",
    "torch.manual_seed(7)\n",
    "DEVICE = torch.device(\"cuda\") if torch.cuda.is_available() else torch.device(\"cpu\")"
   ]
  },
  {
   "cell_type": "code",
   "execution_count": 2,
   "id": "4bb78089-b906-4761-9e83-15c70331e1cb",
   "metadata": {},
   "outputs": [],
   "source": [
    "random_affine = torchvision.transforms.RandomAffine(degrees=10,\n",
    "                                                        scale=(0.9, 1.1),\n",
    "                                                        translate=(0.1, 0.1),\n",
    "                                                        interpolation=torchvision.transforms.InterpolationMode.BICUBIC)\n"
   ]
  },
  {
   "cell_type": "code",
   "execution_count": 3,
   "id": "7afeddf8",
   "metadata": {
    "collapsed": false,
    "jupyter": {
     "outputs_hidden": false
    }
   },
   "outputs": [
    {
     "name": "stdout",
     "output_type": "stream",
     "text": [
      "Files already downloaded and verified\n",
      "Files already downloaded and verified\n"
     ]
    }
   ],
   "source": [
    "#定义超参数\n",
    "BATCH_SIZE = 64\n",
    "\n",
    "transform1 = transforms.Compose([transforms.ToTensor(),\n",
    "                                transforms.Normalize((0.5,0.5,0.5),(0.5,0.5,0.5)),\n",
    "                                 torchvision.transforms.RandomHorizontalFlip()])\n",
    "\n",
    "transform2 = transforms.Compose([transforms.ToTensor(),\n",
    "                                transforms.Normalize((0.5,0.5,0.5),(0.5,0.5,0.5))])\n",
    "\n",
    "trainset = torchvision.datasets.CIFAR10(root='./data',train = True,\n",
    "                                        download=True, transform=transform1)\n",
    "trainloader = torch.utils.data.DataLoader(trainset,batch_size = BATCH_SIZE,\n",
    "                                          shuffle = True, num_workers=4,pin_memory = True)\n",
    "\n",
    "testset = torchvision.datasets.CIFAR10(root='./data',train = False,\n",
    "                                        download=True, transform=transform2)\n",
    "testloader = torch.utils.data.DataLoader(testset,batch_size = BATCH_SIZE,\n",
    "                                          shuffle = False, num_workers=4,pin_memory = True)\n",
    "\n",
    "classes = ('plane', 'car', 'bird', 'cat',\n",
    "           'deer', 'dog', 'frog', 'horse', 'ship', 'truck')"
   ]
  },
  {
   "cell_type": "code",
   "execution_count": 4,
   "id": "ac971464-1c75-45d0-96a8-87e6b51845b2",
   "metadata": {},
   "outputs": [],
   "source": [
    "mynet = torchvision.models.quantization.resnet50(weights=None, progress=True, quantize=False)\n",
    "mynet = mynet.train().to(DEVICE)\n",
    "optimizer = torch.optim.SGD(mynet.parameters(), lr=0.001, momentum=0.9)\n",
    "loss_func = torch.nn.CrossEntropyLoss()"
   ]
  },
  {
   "cell_type": "code",
   "execution_count": 5,
   "id": "a0fffdf7",
   "metadata": {
    "collapsed": false,
    "jupyter": {
     "outputs_hidden": false
    }
   },
   "outputs": [
    {
     "name": "stdout",
     "output_type": "stream",
     "text": [
      "Finished Training\n"
     ]
    }
   ],
   "source": [
    "lost = 0\n",
    "mynet = mynet.train().to(DEVICE)\n",
    "for epoch in range(100):\n",
    "    running_loss = 0.0\n",
    "    for step, (b_x,b_y)in enumerate(trainloader):\n",
    "        outputs = mynet(b_x.to(DEVICE)) # 喂给 net 训练数据 x, 输出预测值\n",
    "        loss = loss_func(outputs, b_y.to(DEVICE)) # 计算两者的误差\n",
    "        optimizer.zero_grad() # 清空上一步的残余更新参数值\n",
    "        loss.backward() # 误差反向传播, 计算参数更新值\n",
    "        optimizer.step() # 将参数更新值施加到 net 的 parameters 上\n",
    "        # 打印状态信息\n",
    "        running_loss += loss.item()\n",
    "        if(lost>loss.item()):\n",
    "            lost = loss.item()\n",
    "            torch.save(mynet.cpu(),str(loss.item()*100)+\"ciarf.pth\")\n",
    "            mynet = mynet.train().to(DEVICE)\n",
    "\n",
    "        if step % 1000 == 999:    # 每2000个批次打印一次\n",
    "            print('[%d, %5d] loss: %.3f' %\n",
    "                  (epoch + 1, step + 1, running_loss / 2000))\n",
    "            running_loss = 0.0\n",
    "\n",
    "print('Finished Training')"
   ]
  },
  {
   "cell_type": "code",
   "execution_count": 6,
   "id": "ec295760",
   "metadata": {
    "collapsed": false,
    "jupyter": {
     "outputs_hidden": false
    }
   },
   "outputs": [
    {
     "name": "stdout",
     "output_type": "stream",
     "text": [
      "6656 10000 0.6656\n"
     ]
    }
   ],
   "source": [
    "all_counter=0\n",
    "correct_counter=0\n",
    "for i, data in enumerate(testloader, 0):\n",
    "    inputs, labels = data\n",
    "    inputs = inputs.to(DEVICE)\n",
    "    labels = labels.to(DEVICE)\n",
    "    out = mynet(inputs)\n",
    "    out = out.detach().cpu().argmax(1)\n",
    "    t = labels.cpu()\n",
    "    for m in range(len(t)):\n",
    "        all_counter += 1\n",
    "        if t[m] == out[m]:\n",
    "            correct_counter += 1\n",
    "\n",
    "print(correct_counter, all_counter, correct_counter / all_counter)"
   ]
  },
  {
   "cell_type": "code",
   "execution_count": 7,
   "id": "3640bb11",
   "metadata": {
    "collapsed": false,
    "jupyter": {
     "outputs_hidden": false
    }
   },
   "outputs": [
    {
     "name": "stdout",
     "output_type": "stream",
     "text": [
      "6482 10000 0.6482\n"
     ]
    }
   ],
   "source": [
    "mynet=torch.load(\"0.7026215083897114ciarf.pth\").to(DEVICE)\n",
    "all_counter=0\n",
    "correct_counter=0\n",
    "for i, data in enumerate(testloader, 0):\n",
    "    inputs, labels = data\n",
    "    inputs = inputs.to(DEVICE)\n",
    "    labels = labels.to(DEVICE)\n",
    "    out = mynet(inputs)\n",
    "    out = out.detach().cpu().argmax(1)\n",
    "    t = labels.cpu()\n",
    "    for m in range(len(t)):\n",
    "        all_counter += 1\n",
    "        if t[m] == out[m]:\n",
    "            correct_counter += 1\n",
    "\n",
    "print(correct_counter, all_counter, correct_counter / all_counter)"
   ]
  },
  {
   "cell_type": "code",
   "execution_count": null,
   "id": "a8b6418d",
   "metadata": {
    "collapsed": false,
    "jupyter": {
     "outputs_hidden": false
    }
   },
   "outputs": [],
   "source": []
  }
 ],
 "metadata": {
  "kernelspec": {
   "display_name": "Python 3 (ipykernel)",
   "language": "python",
   "name": "python3"
  },
  "language_info": {
   "codemirror_mode": {
    "name": "ipython",
    "version": 3
   },
   "file_extension": ".py",
   "mimetype": "text/x-python",
   "name": "python",
   "nbconvert_exporter": "python",
   "pygments_lexer": "ipython3",
   "version": "3.7.9"
  }
 },
 "nbformat": 4,
 "nbformat_minor": 5
}
