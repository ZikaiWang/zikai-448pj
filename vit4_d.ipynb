{
 "cells": [
  {
   "cell_type": "code",
   "execution_count": 1,
   "outputs": [
    {
     "name": "stderr",
     "output_type": "stream",
     "text": [
      "C:\\Users\\16213\\PycharmProjects\\learn_cuda\\venv\\lib\\site-packages\\tqdm\\auto.py:22: TqdmWarning: IProgress not found. Please update jupyter and ipywidgets. See https://ipywidgets.readthedocs.io/en/stable/user_install.html\n",
      "  from .autonotebook import tqdm as notebook_tqdm\n"
     ]
    }
   ],
   "source": [
    "import timm\n",
    "import math\n",
    "import torch\n",
    "import torch.nn as nn\n",
    "import torchvision\n",
    "from typing import Optional"
   ],
   "metadata": {
    "collapsed": false
   }
  },
  {
   "cell_type": "code",
   "execution_count": null,
   "outputs": [],
   "source": [
    "# 全连结加层\n",
    "# ok"
   ],
   "metadata": {
    "collapsed": false
   }
  },
  {
   "cell_type": "code",
   "execution_count": 2,
   "outputs": [],
   "source": [
    "import matplotlib.pyplot as plt\n",
    "from PIL import Image\n",
    "import numpy as np"
   ],
   "metadata": {
    "collapsed": false
   }
  },
  {
   "cell_type": "code",
   "execution_count": 3,
   "outputs": [],
   "source": [
    "DEVICE = torch.device('cuda' if torch.cuda.is_available() else 'cpu')\n",
    "DTYPE = torch.float32"
   ],
   "metadata": {
    "collapsed": false
   }
  },
  {
   "cell_type": "code",
   "execution_count": 4,
   "outputs": [],
   "source": [
    "BATCH_SIZE = 75\n",
    "\n",
    "epochs = 40\n",
    "\n",
    "lr = 0.01\n",
    "momentum = 0.9"
   ],
   "metadata": {
    "collapsed": false
   }
  },
  {
   "cell_type": "code",
   "execution_count": 5,
   "outputs": [],
   "source": [
    "transform1 = torchvision.transforms.Compose([\n",
    "                                                torchvision.transforms.RandomCrop(32, padding=4),\n",
    "                                                torchvision.transforms.Resize(32),\n",
    "                                                torchvision.transforms.RandomHorizontalFlip(),\n",
    "                                                torchvision.transforms.ToTensor(),\n",
    "                                                torchvision.transforms.Normalize((0.4914, 0.4822, 0.4465), (0.2023, 0.1994, 0.2010)),\n",
    "                                                torchvision.transforms.ConvertImageDtype(DTYPE)\n",
    "                                             ])\n",
    "\n",
    "transform2 = torchvision.transforms.Compose([\n",
    "                                                torchvision.transforms.Resize(32),\n",
    "                                                torchvision.transforms.ToTensor(),\n",
    "                                                torchvision.transforms.Normalize((0.4914, 0.4822, 0.4465), (0.2023, 0.1994, 0.2010)),\n",
    "                                                torchvision.transforms.ConvertImageDtype(DTYPE)\n",
    "                                             ])"
   ],
   "metadata": {
    "collapsed": false
   }
  },
  {
   "cell_type": "code",
   "execution_count": 7,
   "outputs": [
    {
     "name": "stdout",
     "output_type": "stream",
     "text": [
      "Files already downloaded and verified\n",
      "Files already downloaded and verified\n"
     ]
    }
   ],
   "source": [
    "trainset = torchvision.datasets.CIFAR10(root='./data', train=True,\n",
    "                                        download=True, transform=transform1)\n",
    "trainloader = torch.utils.data.DataLoader(trainset, batch_size=BATCH_SIZE,\n",
    "                                          shuffle=True, num_workers=8, pin_memory=True)\n",
    "\n",
    "testset = torchvision.datasets.CIFAR10(root='./data', train=False,\n",
    "                                       download=True, transform=transform2)\n",
    "testloader = torch.utils.data.DataLoader(testset, batch_size=BATCH_SIZE,\n",
    "                                         shuffle=False, num_workers=8, pin_memory=True)"
   ],
   "metadata": {
    "collapsed": false
   }
  },
  {
   "cell_type": "code",
   "execution_count": 6,
   "outputs": [],
   "source": [
    "from torchvision.models.vision_transformer import Encoder\n",
    "\n",
    "class VisionTransformer(nn.Module):\n",
    "    \"\"\"Vision Transformer as per https://arxiv.org/abs/2010.11929.\"\"\"\n",
    "\n",
    "    def __init__(\n",
    "        self,\n",
    "        image_size: int,\n",
    "        patch_size: int,\n",
    "        num_layers: int,\n",
    "        num_heads: int,\n",
    "        hidden_dim: int,\n",
    "        mlp_dim: int,\n",
    "        dropout: float = 0.0,\n",
    "        attention_dropout: float = 0.0,\n",
    "        num_classes: int = 10,\n",
    "    ):\n",
    "        super().__init__()\n",
    "        if image_size % patch_size != 0:\n",
    "            print(\"Input shape indivisible by patch size!\")\n",
    "\n",
    "        self.image_size = image_size\n",
    "        self.patch_size = patch_size\n",
    "        self.hidden_dim = hidden_dim\n",
    "        self.mlp_dim = mlp_dim\n",
    "        self.attention_dropout = attention_dropout\n",
    "        self.dropout = dropout\n",
    "        self.num_classes = num_classes\n",
    "\n",
    "\n",
    "        self.conv_proj = nn.Conv2d(\n",
    "            in_channels=3, out_channels=hidden_dim, kernel_size=patch_size, stride=patch_size\n",
    "        )\n",
    "\n",
    "        seq_length = (image_size // patch_size) ** 2\n",
    "\n",
    "        # Add a class token\n",
    "        self.class_token = nn.Parameter(torch.zeros(1, 1, hidden_dim))\n",
    "        seq_length += 1\n",
    "\n",
    "        self.encoder = Encoder(\n",
    "            seq_length,\n",
    "            num_layers,\n",
    "            num_heads,\n",
    "            hidden_dim,\n",
    "            mlp_dim,\n",
    "            dropout,\n",
    "            attention_dropout,\n",
    "        )\n",
    "        self.seq_length = seq_length\n",
    "\n",
    "        self.heads = nn.Sequential(\n",
    "            nn.Linear(hidden_dim, 40),\n",
    "            nn.Tanh(),\n",
    "            nn.Linear(int(min(hidden_dim/2,num_classes*4)), num_classes)\n",
    "        )\n",
    "\n",
    "        fan_in = self.conv_proj.in_channels * self.conv_proj.kernel_size[0] * self.conv_proj.kernel_size[1]\n",
    "        nn.init.trunc_normal_(self.conv_proj.weight, std=math.sqrt(1 / fan_in))\n",
    "        nn.init.zeros_(self.conv_proj.bias)\n",
    "\n",
    "\n",
    "\n",
    "    def _process_input(self, x: torch.Tensor) -> torch.Tensor:\n",
    "        n, _, h, w = x.shape\n",
    "        p = self.patch_size\n",
    "        # torch._assert(h == self.image_size, f\"Wrong image height! Expected {self.image_size} but got {h}!\")\n",
    "        # torch._assert(w == self.image_size, f\"Wrong image width! Expected {self.image_size} but got {w}!\")\n",
    "        n_h = h // p\n",
    "        n_w = w // p\n",
    "\n",
    "        x = self.conv_proj(x)\n",
    "        x = x.reshape(n, self.hidden_dim, n_h * n_w)\n",
    "        x = x.permute(0, 2, 1)\n",
    "\n",
    "        return x\n",
    "\n",
    "    def forward(self, x: torch.Tensor):\n",
    "        # Reshape and permute the input tensor\n",
    "        x = self._process_input(x)\n",
    "        n = x.shape[0]\n",
    "\n",
    "        # Expand the class token to the full batch\n",
    "        batch_class_token = self.class_token.expand(n, -1, -1)\n",
    "        x = torch.cat([batch_class_token, x], dim=1)\n",
    "\n",
    "        x = self.encoder(x)\n",
    "\n",
    "        # Classifier \"token\" as used by standard language architectures\n",
    "        x = x[:, 0]\n",
    "\n",
    "        x = self.heads(x)\n",
    "\n",
    "        return x"
   ],
   "metadata": {
    "collapsed": false
   }
  },
  {
   "cell_type": "code",
   "execution_count": 8,
   "outputs": [],
   "source": [
    "net = VisionTransformer(\n",
    "    image_size=32,\n",
    "    patch_size=8,\n",
    "    num_layers=12,\n",
    "    num_heads=12,\n",
    "    hidden_dim=768,\n",
    "    mlp_dim=768*4,\n",
    "    dropout=0.2,\n",
    "    attention_dropout=0.2,\n",
    "    num_classes=10\n",
    ")"
   ],
   "metadata": {
    "collapsed": false
   }
  },
  {
   "cell_type": "code",
   "execution_count": 9,
   "outputs": [],
   "source": [
    "net = net.train().to(device=DEVICE, dtype=DTYPE)\n",
    "\n",
    "optimizer = torch.optim.SGD(net.parameters(), lr=lr, momentum=momentum)\n",
    "scheduler = torch.optim.lr_scheduler.StepLR(optimizer, step_size=2, gamma=0.9)\n",
    "\n",
    "loss_func = torch.nn.CrossEntropyLoss()"
   ],
   "metadata": {
    "collapsed": false
   }
  },
  {
   "cell_type": "code",
   "execution_count": 10,
   "outputs": [],
   "source": [
    "def tran(epoch):\n",
    "    net.train()\n",
    "    running_loss = 0.0\n",
    "    for i, data in enumerate(trainloader, 0):\n",
    "        # get the inputs\n",
    "        inputs, labels = data\n",
    "        inputs = inputs.to(DEVICE)\n",
    "        labels = labels.to(DEVICE)\n",
    "\n",
    "        # zero the parameter gradients\n",
    "        optimizer.zero_grad()\n",
    "\n",
    "        # forward + backward + optimize\n",
    "        outputs = net(inputs)\n",
    "        loss = loss_func(outputs, labels)\n",
    "        loss.backward()\n",
    "        optimizer.step()\n",
    "\n",
    "        # print statistics\n",
    "        running_loss += loss.item()\n",
    "\n",
    "    scheduler.step()\n",
    "    print('[%d] loss: %.3f' % (epoch + 1, running_loss))"
   ],
   "metadata": {
    "collapsed": false
   }
  },
  {
   "cell_type": "code",
   "execution_count": 11,
   "outputs": [],
   "source": [
    "def test():\n",
    "    net.eval()\n",
    "    all_counter=0\n",
    "    correct_counter=0\n",
    "    for i, data in enumerate(testloader, 0):\n",
    "        inputs, labels = data\n",
    "        inputs = inputs.to(DEVICE)\n",
    "        labels = labels.to(DEVICE)\n",
    "        out = net(inputs)\n",
    "        out = out.detach().cpu().argmax(1)\n",
    "        t = labels.cpu()\n",
    "        for m in range(len(t)):\n",
    "            all_counter += 1\n",
    "            if t[m] == out[m]:\n",
    "                correct_counter += 1\n",
    "\n",
    "    print(correct_counter, all_counter, correct_counter / all_counter)\n",
    "    return (correct_counter / all_counter)"
   ],
   "metadata": {
    "collapsed": false
   }
  },
  {
   "cell_type": "code",
   "execution_count": 12,
   "outputs": [
    {
     "name": "stdout",
     "output_type": "stream",
     "text": [
      "[1] loss: 1264.471\n",
      "3064 10000 0.3064\n",
      "best:  0.3064  in NO:  0\n",
      "[2] loss: 1166.723\n",
      "3433 10000 0.3433\n",
      "best:  0.3433  in NO:  1\n",
      "[3] loss: 1117.876\n",
      "3541 10000 0.3541\n",
      "best:  0.3541  in NO:  2\n",
      "[4] loss: 1081.188\n",
      "3875 10000 0.3875\n",
      "best:  0.3875  in NO:  3\n",
      "[5] loss: 1051.430\n",
      "3947 10000 0.3947\n",
      "best:  0.3947  in NO:  4\n",
      "[6] loss: 1029.398\n",
      "4032 10000 0.4032\n",
      "best:  0.4032  in NO:  5\n",
      "[7] loss: 1001.437\n",
      "4113 10000 0.4113\n",
      "best:  0.4113  in NO:  6\n",
      "[8] loss: 989.666\n",
      "4539 10000 0.4539\n",
      "best:  0.4539  in NO:  7\n",
      "[9] loss: 968.331\n",
      "4528 10000 0.4528\n",
      "[10] loss: 953.819\n",
      "4678 10000 0.4678\n",
      "best:  0.4678  in NO:  9\n",
      "[11] loss: 934.780\n",
      "4787 10000 0.4787\n",
      "best:  0.4787  in NO:  10\n",
      "[12] loss: 921.837\n",
      "4692 10000 0.4692\n",
      "[13] loss: 905.245\n",
      "4819 10000 0.4819\n",
      "best:  0.4819  in NO:  12\n",
      "[14] loss: 894.070\n",
      "4984 10000 0.4984\n",
      "best:  0.4984  in NO:  13\n",
      "[15] loss: 879.256\n",
      "5007 10000 0.5007\n",
      "best:  0.5007  in NO:  14\n",
      "[16] loss: 869.785\n",
      "5133 10000 0.5133\n",
      "best:  0.5133  in NO:  15\n",
      "[17] loss: 857.190\n",
      "5170 10000 0.517\n",
      "best:  0.517  in NO:  16\n",
      "[18] loss: 850.156\n",
      "5215 10000 0.5215\n",
      "best:  0.5215  in NO:  17\n",
      "[19] loss: 837.308\n",
      "5357 10000 0.5357\n",
      "best:  0.5357  in NO:  18\n",
      "[20] loss: 824.802\n",
      "5452 10000 0.5452\n",
      "best:  0.5452  in NO:  19\n",
      "[21] loss: 814.774\n",
      "5452 10000 0.5452\n",
      "[22] loss: 809.896\n",
      "5557 10000 0.5557\n",
      "best:  0.5557  in NO:  21\n",
      "[23] loss: 796.732\n",
      "5664 10000 0.5664\n",
      "best:  0.5664  in NO:  22\n",
      "[24] loss: 791.157\n",
      "5607 10000 0.5607\n",
      "[25] loss: 784.011\n",
      "5687 10000 0.5687\n",
      "best:  0.5687  in NO:  24\n",
      "[26] loss: 775.987\n",
      "5799 10000 0.5799\n",
      "best:  0.5799  in NO:  25\n",
      "[27] loss: 766.191\n",
      "5808 10000 0.5808\n",
      "best:  0.5808  in NO:  26\n",
      "[28] loss: 758.617\n",
      "5821 10000 0.5821\n",
      "best:  0.5821  in NO:  27\n",
      "[29] loss: 752.425\n",
      "5977 10000 0.5977\n",
      "best:  0.5977  in NO:  28\n",
      "[30] loss: 745.310\n",
      "5908 10000 0.5908\n",
      "[31] loss: 736.137\n",
      "6066 10000 0.6066\n",
      "best:  0.6066  in NO:  30\n",
      "[32] loss: 728.697\n",
      "6053 10000 0.6053\n",
      "[33] loss: 724.278\n",
      "6109 10000 0.6109\n",
      "best:  0.6109  in NO:  32\n",
      "[34] loss: 716.383\n",
      "6074 10000 0.6074\n",
      "[35] loss: 711.541\n",
      "6107 10000 0.6107\n",
      "[36] loss: 707.265\n",
      "6123 10000 0.6123\n",
      "best:  0.6123  in NO:  35\n",
      "[37] loss: 700.995\n",
      "6182 10000 0.6182\n",
      "best:  0.6182  in NO:  36\n",
      "[38] loss: 697.256\n",
      "6276 10000 0.6276\n",
      "best:  0.6276  in NO:  37\n",
      "[39] loss: 691.868\n",
      "6264 10000 0.6264\n",
      "[40] loss: 686.425\n",
      "6233 10000 0.6233\n"
     ]
    }
   ],
   "source": [
    "correctRate = 0\n",
    "for i in range(epochs):\n",
    "    tran(i)\n",
    "    r = test()\n",
    "    if(r > correctRate):\n",
    "        correctRate = r\n",
    "        print(\"best: \", r , \" in NO: \", i)\n",
    "        torch.save(net.cpu(),\"checkpoint/trans_vit.pth\")\n",
    "        net = net.to(DEVICE)"
   ],
   "metadata": {
    "collapsed": false
   }
  },
  {
   "cell_type": "code",
   "execution_count": 12,
   "outputs": [],
   "source": [],
   "metadata": {
    "collapsed": false
   }
  }
 ],
 "metadata": {
  "kernelspec": {
   "display_name": "Python 3",
   "language": "python",
   "name": "python3"
  },
  "language_info": {
   "codemirror_mode": {
    "name": "ipython",
    "version": 2
   },
   "file_extension": ".py",
   "mimetype": "text/x-python",
   "name": "python",
   "nbconvert_exporter": "python",
   "pygments_lexer": "ipython2",
   "version": "2.7.6"
  }
 },
 "nbformat": 4,
 "nbformat_minor": 0
}
