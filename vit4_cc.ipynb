{
 "cells": [
  {
   "cell_type": "code",
   "execution_count": 1,
   "outputs": [
    {
     "name": "stderr",
     "output_type": "stream",
     "text": [
      "C:\\Users\\16213\\PycharmProjects\\learn_cuda\\venv\\lib\\site-packages\\tqdm\\auto.py:22: TqdmWarning: IProgress not found. Please update jupyter and ipywidgets. See https://ipywidgets.readthedocs.io/en/stable/user_install.html\n",
      "  from .autonotebook import tqdm as notebook_tqdm\n"
     ]
    }
   ],
   "source": [
    "import timm\n",
    "import math\n",
    "import torch\n",
    "import torch.nn as nn\n",
    "import torchvision\n",
    "from typing import Optional"
   ],
   "metadata": {
    "collapsed": false
   }
  },
  {
   "cell_type": "code",
   "execution_count": 2,
   "outputs": [],
   "source": [
    "# 原始 8 -> 4"
   ],
   "metadata": {
    "collapsed": false
   }
  },
  {
   "cell_type": "code",
   "execution_count": 3,
   "outputs": [],
   "source": [
    "import matplotlib.pyplot as plt\n",
    "from PIL import Image\n",
    "import numpy as np"
   ],
   "metadata": {
    "collapsed": false
   }
  },
  {
   "cell_type": "code",
   "execution_count": 4,
   "outputs": [],
   "source": [
    "DEVICE = torch.device('cuda' if torch.cuda.is_available() else 'cpu')\n",
    "DTYPE = torch.float32"
   ],
   "metadata": {
    "collapsed": false
   }
  },
  {
   "cell_type": "code",
   "execution_count": 5,
   "outputs": [],
   "source": [
    "BATCH_SIZE = 75\n",
    "\n",
    "epochs = 40\n",
    "\n",
    "lr = 0.01\n",
    "momentum = 0.9"
   ],
   "metadata": {
    "collapsed": false
   }
  },
  {
   "cell_type": "code",
   "execution_count": 6,
   "outputs": [],
   "source": [
    "transform1 = torchvision.transforms.Compose([\n",
    "                                                torchvision.transforms.RandomCrop(32, padding=4),\n",
    "                                                torchvision.transforms.Resize(32),\n",
    "                                                torchvision.transforms.RandomHorizontalFlip(),\n",
    "                                                torchvision.transforms.ToTensor(),\n",
    "                                                torchvision.transforms.Normalize((0.4914, 0.4822, 0.4465), (0.2023, 0.1994, 0.2010)),\n",
    "                                                torchvision.transforms.ConvertImageDtype(DTYPE)\n",
    "                                             ])\n",
    "\n",
    "transform2 = torchvision.transforms.Compose([\n",
    "                                                torchvision.transforms.Resize(32),\n",
    "                                                torchvision.transforms.ToTensor(),\n",
    "                                                torchvision.transforms.Normalize((0.4914, 0.4822, 0.4465), (0.2023, 0.1994, 0.2010)),\n",
    "                                                torchvision.transforms.ConvertImageDtype(DTYPE)\n",
    "                                             ])"
   ],
   "metadata": {
    "collapsed": false
   }
  },
  {
   "cell_type": "code",
   "execution_count": 7,
   "outputs": [],
   "source": [
    "from torchvision.models.vision_transformer import Encoder\n",
    "\n",
    "class VisionTransformer(nn.Module):\n",
    "    \"\"\"Vision Transformer as per https://arxiv.org/abs/2010.11929.\"\"\"\n",
    "\n",
    "    def __init__(\n",
    "        self,\n",
    "        image_size: int,\n",
    "        patch_size: int,\n",
    "        num_layers: int,\n",
    "        num_heads: int,\n",
    "        hidden_dim: int,\n",
    "        mlp_dim: int,\n",
    "        dropout: float = 0.0,\n",
    "        attention_dropout: float = 0.0,\n",
    "        num_classes: int = 10,\n",
    "    ):\n",
    "        super().__init__()\n",
    "        if image_size % patch_size != 0:\n",
    "            print(\"Input shape indivisible by patch size!\")\n",
    "\n",
    "        self.image_size = image_size\n",
    "        self.patch_size = patch_size\n",
    "        self.hidden_dim = hidden_dim\n",
    "        self.mlp_dim = mlp_dim\n",
    "        self.attention_dropout = attention_dropout\n",
    "        self.dropout = dropout\n",
    "        self.num_classes = num_classes\n",
    "\n",
    "\n",
    "        self.conv_proj = nn.Conv2d(\n",
    "            in_channels=3, out_channels=hidden_dim, kernel_size=patch_size, stride=patch_size\n",
    "        )\n",
    "\n",
    "        seq_length = (image_size // patch_size) ** 2\n",
    "\n",
    "        # Add a class token\n",
    "        self.class_token = nn.Parameter(torch.zeros(1, 1, hidden_dim))\n",
    "        seq_length += 1\n",
    "\n",
    "        self.encoder = Encoder(\n",
    "            seq_length,\n",
    "            num_layers,\n",
    "            num_heads,\n",
    "            hidden_dim,\n",
    "            mlp_dim,\n",
    "            dropout,\n",
    "            attention_dropout,\n",
    "        )\n",
    "        self.seq_length = seq_length\n",
    "\n",
    "        self.heads = nn.Sequential(\n",
    "            nn.Linear(hidden_dim, num_classes)\n",
    "        )\n",
    "\n",
    "        fan_in = self.conv_proj.in_channels * self.conv_proj.kernel_size[0] * self.conv_proj.kernel_size[1]\n",
    "        nn.init.trunc_normal_(self.conv_proj.weight, std=math.sqrt(1 / fan_in))\n",
    "        nn.init.zeros_(self.conv_proj.bias)\n",
    "\n",
    "\n",
    "\n",
    "    def _process_input(self, x: torch.Tensor) -> torch.Tensor:\n",
    "        n, _, h, w = x.shape\n",
    "        p = self.patch_size\n",
    "        # torch._assert(h == self.image_size, f\"Wrong image height! Expected {self.image_size} but got {h}!\")\n",
    "        # torch._assert(w == self.image_size, f\"Wrong image width! Expected {self.image_size} but got {w}!\")\n",
    "        n_h = h // p\n",
    "        n_w = w // p\n",
    "\n",
    "        x = self.conv_proj(x)\n",
    "        x = x.reshape(n, self.hidden_dim, n_h * n_w)\n",
    "        x = x.permute(0, 2, 1)\n",
    "\n",
    "        return x\n",
    "\n",
    "    def forward(self, x: torch.Tensor):\n",
    "        # Reshape and permute the input tensor\n",
    "        x = self._process_input(x)\n",
    "        n = x.shape[0]\n",
    "\n",
    "        # Expand the class token to the full batch\n",
    "        batch_class_token = self.class_token.expand(n, -1, -1)\n",
    "        x = torch.cat([batch_class_token, x], dim=1)\n",
    "\n",
    "        x = self.encoder(x)\n",
    "\n",
    "        # Classifier \"token\" as used by standard language architectures\n",
    "        x = x[:, 0]\n",
    "\n",
    "        x = self.heads(x)\n",
    "\n",
    "        return x"
   ],
   "metadata": {
    "collapsed": false
   }
  },
  {
   "cell_type": "code",
   "execution_count": 8,
   "outputs": [
    {
     "name": "stdout",
     "output_type": "stream",
     "text": [
      "Files already downloaded and verified\n",
      "Files already downloaded and verified\n"
     ]
    }
   ],
   "source": [
    "trainset = torchvision.datasets.CIFAR10(root='./data', train=True,\n",
    "                                        download=True, transform=transform1)\n",
    "trainloader = torch.utils.data.DataLoader(trainset, batch_size=BATCH_SIZE,\n",
    "                                          shuffle=True, num_workers=8, pin_memory=True)\n",
    "\n",
    "testset = torchvision.datasets.CIFAR10(root='./data', train=False,\n",
    "                                       download=True, transform=transform2)\n",
    "testloader = torch.utils.data.DataLoader(testset, batch_size=BATCH_SIZE,\n",
    "                                         shuffle=False, num_workers=8, pin_memory=True)"
   ],
   "metadata": {
    "collapsed": false
   }
  },
  {
   "cell_type": "code",
   "execution_count": 9,
   "outputs": [],
   "source": [
    "net = VisionTransformer(\n",
    "    image_size=32,\n",
    "    patch_size=4,\n",
    "    num_layers=12,\n",
    "    num_heads=12,\n",
    "    hidden_dim=768,\n",
    "    mlp_dim=768*4,\n",
    "    dropout=0.2,\n",
    "    attention_dropout=0.2,\n",
    "    num_classes=10\n",
    ")"
   ],
   "metadata": {
    "collapsed": false
   }
  },
  {
   "cell_type": "code",
   "execution_count": 10,
   "outputs": [],
   "source": [
    "net = net.train().to(device=DEVICE, dtype=DTYPE)\n",
    "\n",
    "optimizer = torch.optim.SGD(net.parameters(), lr=lr, momentum=momentum)\n",
    "scheduler = torch.optim.lr_scheduler.StepLR(optimizer, step_size=2, gamma=0.9)\n",
    "\n",
    "loss_func = torch.nn.CrossEntropyLoss()"
   ],
   "metadata": {
    "collapsed": false
   }
  },
  {
   "cell_type": "code",
   "execution_count": 11,
   "outputs": [],
   "source": [
    "def tran(epoch):\n",
    "    net.train()\n",
    "    running_loss = 0.0\n",
    "    for i, data in enumerate(trainloader, 0):\n",
    "        # get the inputs\n",
    "        inputs, labels = data\n",
    "        inputs = inputs.to(DEVICE)\n",
    "        labels = labels.to(DEVICE)\n",
    "\n",
    "        # zero the parameter gradients\n",
    "        optimizer.zero_grad()\n",
    "\n",
    "        # forward + backward + optimize\n",
    "        outputs = net(inputs)\n",
    "        loss = loss_func(outputs, labels)\n",
    "        loss.backward()\n",
    "        optimizer.step()\n",
    "\n",
    "        # print statistics\n",
    "        running_loss += loss.item()\n",
    "\n",
    "    scheduler.step()\n",
    "    print('[%d] loss: %.3f' % (epoch + 1, running_loss))"
   ],
   "metadata": {
    "collapsed": false
   }
  },
  {
   "cell_type": "code",
   "execution_count": 12,
   "outputs": [],
   "source": [
    "def test():\n",
    "    net.eval()\n",
    "    all_counter=0\n",
    "    correct_counter=0\n",
    "    for i, data in enumerate(testloader, 0):\n",
    "        inputs, labels = data\n",
    "        inputs = inputs.to(DEVICE)\n",
    "        labels = labels.to(DEVICE)\n",
    "        out = net(inputs)\n",
    "        out = out.detach().cpu().argmax(1)\n",
    "        t = labels.cpu()\n",
    "        for m in range(len(t)):\n",
    "            all_counter += 1\n",
    "            if t[m] == out[m]:\n",
    "                correct_counter += 1\n",
    "\n",
    "    print(correct_counter, all_counter, correct_counter / all_counter)\n",
    "    return (correct_counter / all_counter)"
   ],
   "metadata": {
    "collapsed": false
   }
  },
  {
   "cell_type": "code",
   "execution_count": 13,
   "outputs": [
    {
     "name": "stdout",
     "output_type": "stream",
     "text": [
      "[1] loss: 1346.418\n",
      "3757 10000 0.3757\n",
      "best:  0.3757  in NO:  0\n",
      "[2] loss: 1093.607\n",
      "4256 10000 0.4256\n",
      "best:  0.4256  in NO:  1\n",
      "[3] loss: 1003.605\n",
      "4695 10000 0.4695\n",
      "best:  0.4695  in NO:  2\n",
      "[4] loss: 951.874\n",
      "4842 10000 0.4842\n",
      "best:  0.4842  in NO:  3\n",
      "[5] loss: 904.770\n",
      "5267 10000 0.5267\n",
      "best:  0.5267  in NO:  4\n",
      "[6] loss: 876.180\n",
      "5370 10000 0.537\n",
      "best:  0.537  in NO:  5\n",
      "[7] loss: 840.450\n",
      "5724 10000 0.5724\n",
      "best:  0.5724  in NO:  6\n",
      "[8] loss: 822.195\n",
      "5667 10000 0.5667\n",
      "[9] loss: 797.509\n",
      "5819 10000 0.5819\n",
      "best:  0.5819  in NO:  8\n",
      "[10] loss: 778.983\n",
      "5718 10000 0.5718\n",
      "[11] loss: 760.455\n",
      "6031 10000 0.6031\n",
      "best:  0.6031  in NO:  10\n",
      "[12] loss: 745.992\n",
      "5966 10000 0.5966\n",
      "[13] loss: 725.470\n",
      "6262 10000 0.6262\n",
      "best:  0.6262  in NO:  12\n",
      "[14] loss: 713.989\n",
      "6261 10000 0.6261\n",
      "[15] loss: 697.575\n",
      "6273 10000 0.6273\n",
      "best:  0.6273  in NO:  14\n",
      "[16] loss: 688.999\n",
      "6408 10000 0.6408\n",
      "best:  0.6408  in NO:  15\n",
      "[17] loss: 671.607\n",
      "6478 10000 0.6478\n",
      "best:  0.6478  in NO:  16\n",
      "[18] loss: 660.171\n",
      "6541 10000 0.6541\n",
      "best:  0.6541  in NO:  17\n",
      "[19] loss: 649.860\n",
      "6619 10000 0.6619\n",
      "best:  0.6619  in NO:  18\n",
      "[20] loss: 639.199\n",
      "6528 10000 0.6528\n",
      "[21] loss: 625.916\n",
      "6706 10000 0.6706\n",
      "best:  0.6706  in NO:  20\n",
      "[22] loss: 619.449\n",
      "6632 10000 0.6632\n",
      "[23] loss: 605.782\n",
      "6739 10000 0.6739\n",
      "best:  0.6739  in NO:  22\n",
      "[24] loss: 596.132\n",
      "6704 10000 0.6704\n",
      "[25] loss: 585.213\n",
      "6895 10000 0.6895\n",
      "best:  0.6895  in NO:  24\n",
      "[26] loss: 576.663\n",
      "6904 10000 0.6904\n",
      "best:  0.6904  in NO:  25\n",
      "[27] loss: 567.387\n",
      "6989 10000 0.6989\n",
      "best:  0.6989  in NO:  26\n",
      "[28] loss: 563.369\n",
      "7021 10000 0.7021\n",
      "best:  0.7021  in NO:  27\n",
      "[29] loss: 552.657\n",
      "7051 10000 0.7051\n",
      "best:  0.7051  in NO:  28\n",
      "[30] loss: 547.360\n",
      "7044 10000 0.7044\n",
      "[31] loss: 536.421\n",
      "7107 10000 0.7107\n",
      "best:  0.7107  in NO:  30\n",
      "[32] loss: 532.702\n",
      "7096 10000 0.7096\n",
      "[33] loss: 523.366\n",
      "7156 10000 0.7156\n",
      "best:  0.7156  in NO:  32\n",
      "[34] loss: 516.941\n",
      "7054 10000 0.7054\n",
      "[35] loss: 510.020\n",
      "7207 10000 0.7207\n",
      "best:  0.7207  in NO:  34\n",
      "[36] loss: 505.284\n",
      "7187 10000 0.7187\n",
      "[37] loss: 499.944\n",
      "7105 10000 0.7105\n",
      "[38] loss: 494.675\n",
      "7338 10000 0.7338\n",
      "best:  0.7338  in NO:  37\n",
      "[39] loss: 486.522\n",
      "7190 10000 0.719\n",
      "[40] loss: 483.961\n",
      "7327 10000 0.7327\n"
     ]
    }
   ],
   "source": [
    "correctRate = 0\n",
    "for i in range(epochs):\n",
    "    tran(i)\n",
    "    r = test()\n",
    "    if(r > correctRate):\n",
    "        correctRate = r\n",
    "        print(\"best: \", r , \" in NO: \", i)\n",
    "        torch.save(net.cpu(),\"checkpoint/trans_vit2.pth\")\n",
    "        net = net.to(DEVICE)"
   ],
   "metadata": {
    "collapsed": false
   }
  },
  {
   "cell_type": "code",
   "execution_count": 13,
   "outputs": [],
   "source": [],
   "metadata": {
    "collapsed": false
   }
  }
 ],
 "metadata": {
  "kernelspec": {
   "display_name": "Python 3",
   "language": "python",
   "name": "python3"
  },
  "language_info": {
   "codemirror_mode": {
    "name": "ipython",
    "version": 2
   },
   "file_extension": ".py",
   "mimetype": "text/x-python",
   "name": "python",
   "nbconvert_exporter": "python",
   "pygments_lexer": "ipython2",
   "version": "2.7.6"
  }
 },
 "nbformat": 4,
 "nbformat_minor": 0
}
