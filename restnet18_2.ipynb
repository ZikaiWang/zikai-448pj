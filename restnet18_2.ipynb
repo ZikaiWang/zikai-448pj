{
 "cells": [
  {
   "cell_type": "code",
   "execution_count": 55,
   "metadata": {
    "collapsed": true
   },
   "outputs": [],
   "source": [
    "import torch\n",
    "import torchvision\n",
    "from PIL import Image\n",
    "import torchvision.transforms as transforms\n",
    "import numpy as np\n",
    "import json\n",
    "import requests\n",
    "import matplotlib.pyplot as plt\n",
    "\n",
    "torch.manual_seed(7)\n",
    "DEVICE = torch.device(\"cuda\") if torch.cuda.is_available() else torch.device(\"cpu\")"
   ]
  },
  {
   "cell_type": "code",
   "execution_count": 56,
   "outputs": [],
   "source": [
    "from torch.utils.tensorboard import SummaryWriter\n",
    "writer = SummaryWriter('./logs')"
   ],
   "metadata": {
    "collapsed": false
   }
  },
  {
   "cell_type": "code",
   "execution_count": 57,
   "outputs": [],
   "source": [
    "random_affine = torchvision.transforms.RandomAffine(degrees=10,\n",
    "                                                        scale=(0.9, 1.1),\n",
    "                                                        translate=(0.1, 0.1),\n",
    "                                                        interpolation=torchvision.transforms.InterpolationMode.BICUBIC)"
   ],
   "metadata": {
    "collapsed": false
   }
  },
  {
   "cell_type": "code",
   "execution_count": 58,
   "outputs": [
    {
     "name": "stdout",
     "output_type": "stream",
     "text": [
      "Files already downloaded and verified\n",
      "Files already downloaded and verified\n"
     ]
    }
   ],
   "source": [
    "#定义超参数\n",
    "BATCH_SIZE = 128\n",
    "\n",
    "transform1 = transforms.Compose([transforms.ToTensor(),\n",
    "                                transforms.Normalize((0.5,0.5,0.5),(0.5,0.5,0.5)),\n",
    "                                 torchvision.transforms.RandomHorizontalFlip()])\n",
    "\n",
    "transform2 = transforms.Compose([transforms.ToTensor(),\n",
    "                                transforms.Normalize((0.5,0.5,0.5),(0.5,0.5,0.5))])\n",
    "\n",
    "trainset = torchvision.datasets.CIFAR10(root='./data',train = True,\n",
    "                                        download=True, transform=transform1)\n",
    "trainloader = torch.utils.data.DataLoader(trainset,batch_size = BATCH_SIZE,\n",
    "                                          shuffle = True, num_workers=0,pin_memory = False)\n",
    "\n",
    "testset = torchvision.datasets.CIFAR10(root='./data',train = False,\n",
    "                                        download=True, transform=transform2)\n",
    "testloader = torch.utils.data.DataLoader(testset,batch_size = BATCH_SIZE,\n",
    "                                          shuffle = False, num_workers=0,pin_memory = False)\n",
    "\n",
    "classes = ('plane', 'car', 'bird', 'cat',\n",
    "           'deer', 'dog', 'frog', 'horse', 'ship', 'truck')"
   ],
   "metadata": {
    "collapsed": false
   }
  },
  {
   "cell_type": "code",
   "execution_count": 59,
   "outputs": [],
   "source": [
    "mynet = torchvision.models.quantization.resnet18(weights=None, progress=True, quantize=False)\n",
    "mynet = mynet.train().to(DEVICE)\n",
    "optimizer = torch.optim.SGD(mynet.parameters(), lr=0.01, momentum=0.9)\n",
    "loss_func = torch.nn.CrossEntropyLoss()"
   ],
   "metadata": {
    "collapsed": false
   }
  },
  {
   "cell_type": "code",
   "execution_count": 60,
   "outputs": [
    {
     "name": "stdout",
     "output_type": "stream",
     "text": [
      "[1,   391] loss: 0.307\n",
      "[2,   391] loss: 0.221\n",
      "[3,   391] loss: 0.185\n",
      "[4,   391] loss: 0.161\n",
      "[5,   391] loss: 0.141\n",
      "[6,   391] loss: 0.125\n",
      "[7,   391] loss: 0.113\n",
      "[8,   391] loss: 0.101\n",
      "[9,   391] loss: 0.093\n",
      "[10,   391] loss: 0.083\n",
      "Finished Training\n",
      "[1,   391] loss: 0.313\n",
      "[2,   391] loss: 0.223\n",
      "[3,   391] loss: 0.186\n",
      "[4,   391] loss: 0.161\n",
      "[5,   391] loss: 0.143\n",
      "[6,   391] loss: 0.128\n",
      "[7,   391] loss: 0.114\n",
      "[8,   391] loss: 0.104\n",
      "[9,   391] loss: 0.094\n",
      "[10,   391] loss: 0.084\n",
      "Finished Training\n"
     ]
    }
   ],
   "source": [
    "lost = 0\n",
    "mynet = mynet.train().to(DEVICE)\n",
    "for epoch in range(10):\n",
    "    running_loss = 0.0\n",
    "    for step, (b_x,b_y)in enumerate(trainloader):\n",
    "        outputs = mynet(b_x.to(DEVICE)) # 喂给 net 训练数据 x, 输出预测值\n",
    "        loss = loss_func(outputs, b_y.to(DEVICE)) # 计算两者的误差\n",
    "        optimizer.zero_grad() # 清空上一步的残余更新参数值\n",
    "        loss.backward() # 误差反向传播, 计算参数更新值\n",
    "        optimizer.step() # 将参数更新值施加到 net 的 parameters 上\n",
    "        writer.add_scalar(\"loss18\",loss.item(),step)\n",
    "        # 打印状态信息\n",
    "        running_loss += loss.item()\n",
    "        #if(lost>loss.item()):\n",
    "        #    lost = loss.item()\n",
    "        #    torch.save(mynet.cpu(),str(loss.item()*100)+\"ciarf.pth\")\n",
    "        #    mynet = mynet.train().to(DEVICE)\n",
    "\n",
    "        #if step % 1000 == 999:    # 每2000个批次打印一次\n",
    "        #    print('[%d, %5d] loss: %.3f' %\n",
    "        #          (epoch + 1, step + 1, running_loss / 2000))\n",
    "        #    running_loss = 0.0\n",
    "    print('[%d, %5d] loss: %.3f' %\n",
    "            (epoch + 1, step + 1, running_loss / 2000))\n",
    "    running_loss = 0.0\n",
    "\n",
    "print('Finished Training')\n",
    "writer.close()"
   ],
   "metadata": {
    "collapsed": false
   }
  },
  {
   "cell_type": "code",
   "execution_count": 61,
   "outputs": [],
   "source": [
    "mynet = mynet.eval().to(DEVICE)"
   ],
   "metadata": {
    "collapsed": false
   }
  },
  {
   "cell_type": "code",
   "execution_count": 62,
   "outputs": [
    {
     "name": "stdout",
     "output_type": "stream",
     "text": [
      "7418 10000 0.7418\n",
      "7370 10000 0.737\n"
     ]
    }
   ],
   "source": [
    "all_counter=0\n",
    "correct_counter=0\n",
    "for i, data in enumerate(testloader, 0):\n",
    "    inputs, labels = data\n",
    "    inputs = inputs.to(DEVICE)\n",
    "    labels = labels.to(DEVICE)\n",
    "    out = mynet(inputs)\n",
    "    out = out.detach().cpu().argmax(1)\n",
    "    t = labels.cpu()\n",
    "    for m in range(len(t)):\n",
    "        all_counter += 1\n",
    "        if t[m] == out[m]:\n",
    "            correct_counter += 1\n",
    "\n",
    "print(correct_counter, all_counter, correct_counter / all_counter)"
   ],
   "metadata": {
    "collapsed": false
   }
  },
  {
   "cell_type": "code",
   "execution_count": 63,
   "outputs": [
    {
     "name": "stdout",
     "output_type": "stream",
     "text": [
      "7418 10000 0.7418\n",
      "7370 10000 0.737\n"
     ]
    }
   ],
   "source": [
    "#mynet=torch.load(\"0.7026215083897114ciarf.pth\").to(DEVICE)\n",
    "all_counter=0\n",
    "correct_counter=0\n",
    "for i, data in enumerate(testloader, 0):\n",
    "    inputs, labels = data\n",
    "    inputs = inputs.to(DEVICE)\n",
    "    labels = labels.to(DEVICE)\n",
    "    out = mynet(inputs)\n",
    "    out = out.detach().cpu().argmax(1)\n",
    "    t = labels.cpu()\n",
    "    for m in range(len(t)):\n",
    "        all_counter += 1\n",
    "        if t[m] == out[m]:\n",
    "            correct_counter += 1\n",
    "\n",
    "print(correct_counter, all_counter, correct_counter / all_counter)"
   ],
   "metadata": {
    "collapsed": false
   }
  },
  {
   "cell_type": "code",
   "execution_count": 63,
   "outputs": [],
   "source": [],
   "metadata": {
    "collapsed": false
   }
  }
 ],
 "metadata": {
  "kernelspec": {
   "display_name": "Python 3",
   "language": "python",
   "name": "python3"
  },
  "language_info": {
   "codemirror_mode": {
    "name": "ipython",
    "version": 2
   },
   "file_extension": ".py",
   "mimetype": "text/x-python",
   "name": "python",
   "nbconvert_exporter": "python",
   "pygments_lexer": "ipython2",
   "version": "2.7.6"
  }
 },
 "nbformat": 4,
 "nbformat_minor": 0
}
