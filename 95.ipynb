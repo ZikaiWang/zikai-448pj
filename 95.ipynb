{
 "cells": [
  {
   "cell_type": "code",
   "execution_count": 1,
   "outputs": [],
   "source": [
    "import torch\n",
    "from torch.utils.tensorboard.summary import image\n",
    "import torchvision\n",
    "import torch.nn.functional as F\n",
    "import torch.nn as nn\n",
    "import torchvision.transforms as transforms\n",
    "import torch.optim as optim\n",
    "\n",
    "from torch.utils.tensorboard import SummaryWriter"
   ],
   "metadata": {
    "collapsed": false
   }
  },
  {
   "cell_type": "code",
   "execution_count": 2,
   "outputs": [
    {
     "name": "stdout",
     "output_type": "stream",
     "text": [
      "Files already downloaded and verified\n",
      "Files already downloaded and verified\n"
     ]
    }
   ],
   "source": [
    "myWriter = SummaryWriter('./logs')\n",
    "\n",
    "myTransforms = transforms.Compose([\n",
    "    transforms.Resize((224, 224)),\n",
    "    transforms.RandomHorizontalFlip(p=0.5),\n",
    "    transforms.ToTensor(),\n",
    "    transforms.Normalize((0.485, 0.456, 0.406), (0.229, 0.224, 0.225))])\n",
    "\n",
    "#  load\n",
    "train_dataset = torchvision.datasets.CIFAR10(root='./data', train=True, download=True,\n",
    "                                             transform=myTransforms)\n",
    "train_loader = torch.utils.data.DataLoader(train_dataset, batch_size=64, shuffle=True,\n",
    "                                           num_workers=6,pin_memory = True)\n",
    "\n",
    "test_dataset = torchvision.datasets.CIFAR10(root='./data', train=False, download=True,\n",
    "                                            transform=myTransforms)\n",
    "test_loader = torch.utils.data.DataLoader(test_dataset, batch_size=64, shuffle=True,\n",
    "                                          num_workers=6,pin_memory = True)"
   ],
   "metadata": {
    "collapsed": false
   }
  },
  {
   "cell_type": "code",
   "execution_count": 3,
   "outputs": [],
   "source": [
    "# 定义模型\n",
    "myModel = torchvision.models.resnet50()\n",
    "# 将原来的ResNet18的最后两层全连接层拿掉,替换成一个输出单元为10的全连接层\n",
    "inchannel = myModel.fc.in_features\n",
    "myModel.fc = nn.Linear(inchannel, 10)\n",
    "\n",
    "# 损失函数及优化器\n",
    "# GPU加速\n",
    "myDevice = torch.device(\"cuda:0\" if torch.cuda.is_available() else \"cpu\")\n",
    "myModel = myModel.to(myDevice)\n",
    "\n",
    "learning_rate = 0.01\n",
    "myOptimzier = optim.SGD(myModel.parameters(), lr=learning_rate, momentum=0.9)\n",
    "myLoss = torch.nn.CrossEntropyLoss()"
   ],
   "metadata": {
    "collapsed": false
   }
  },
  {
   "cell_type": "code",
   "execution_count": 4,
   "outputs": [
    {
     "name": "stdout",
     "output_type": "stream",
     "text": [
      "[iteration -   0] training loss: 0.241\n",
      "\n",
      "[iteration - 200] training loss: 50.964\n",
      "\n",
      "[iteration - 400] training loss: 36.911\n",
      "\n",
      "[iteration - 600] training loss: 33.464\n",
      "\n",
      "Testing Accuracy : 43.420 %\n",
      "[iteration - 782] training loss: 0.141\n",
      "\n",
      "[iteration - 982] training loss: 40.961\n",
      "\n",
      "[iteration - 1182] training loss: 35.729\n",
      "\n",
      "[iteration - 1382] training loss: 33.355\n",
      "\n"
     ]
    },
    {
     "ename": "KeyboardInterrupt",
     "evalue": "",
     "output_type": "error",
     "traceback": [
      "\u001B[1;31m---------------------------------------------------------------------------\u001B[0m",
      "\u001B[1;31mKeyboardInterrupt\u001B[0m                         Traceback (most recent call last)",
      "\u001B[1;32m~\\AppData\\Local\\Temp\\ipykernel_16736\\669907298.py\u001B[0m in \u001B[0;36m<module>\u001B[1;34m\u001B[0m\n\u001B[0;32m      7\u001B[0m         \u001B[0mloss\u001B[0m \u001B[1;33m=\u001B[0m \u001B[0mmyLoss\u001B[0m\u001B[1;33m(\u001B[0m\u001B[0mpredict_label\u001B[0m\u001B[1;33m,\u001B[0m \u001B[0mlabel\u001B[0m\u001B[1;33m)\u001B[0m\u001B[1;33m\u001B[0m\u001B[1;33m\u001B[0m\u001B[0m\n\u001B[0;32m      8\u001B[0m \u001B[1;33m\u001B[0m\u001B[0m\n\u001B[1;32m----> 9\u001B[1;33m         \u001B[0mmyWriter\u001B[0m\u001B[1;33m.\u001B[0m\u001B[0madd_scalar\u001B[0m\u001B[1;33m(\u001B[0m\u001B[1;34m'training loss'\u001B[0m\u001B[1;33m,\u001B[0m \u001B[0mloss\u001B[0m\u001B[1;33m,\u001B[0m \u001B[0mglobal_step\u001B[0m\u001B[1;33m=\u001B[0m\u001B[0m_epoch\u001B[0m \u001B[1;33m*\u001B[0m \u001B[0mlen\u001B[0m\u001B[1;33m(\u001B[0m\u001B[0mtrain_loader\u001B[0m\u001B[1;33m)\u001B[0m \u001B[1;33m+\u001B[0m \u001B[0m_step\u001B[0m\u001B[1;33m)\u001B[0m\u001B[1;33m\u001B[0m\u001B[1;33m\u001B[0m\u001B[0m\n\u001B[0m\u001B[0;32m     10\u001B[0m \u001B[1;33m\u001B[0m\u001B[0m\n\u001B[0;32m     11\u001B[0m         \u001B[0mmyOptimzier\u001B[0m\u001B[1;33m.\u001B[0m\u001B[0mzero_grad\u001B[0m\u001B[1;33m(\u001B[0m\u001B[1;33m)\u001B[0m\u001B[1;33m\u001B[0m\u001B[1;33m\u001B[0m\u001B[0m\n",
      "\u001B[1;32m~\\PycharmProjects\\learn_cuda\\venv\\lib\\site-packages\\torch\\utils\\tensorboard\\writer.py\u001B[0m in \u001B[0;36madd_scalar\u001B[1;34m(self, tag, scalar_value, global_step, walltime, new_style, double_precision)\u001B[0m\n\u001B[0;32m    386\u001B[0m \u001B[1;33m\u001B[0m\u001B[0m\n\u001B[0;32m    387\u001B[0m         summary = scalar(\n\u001B[1;32m--> 388\u001B[1;33m             \u001B[0mtag\u001B[0m\u001B[1;33m,\u001B[0m \u001B[0mscalar_value\u001B[0m\u001B[1;33m,\u001B[0m \u001B[0mnew_style\u001B[0m\u001B[1;33m=\u001B[0m\u001B[0mnew_style\u001B[0m\u001B[1;33m,\u001B[0m \u001B[0mdouble_precision\u001B[0m\u001B[1;33m=\u001B[0m\u001B[0mdouble_precision\u001B[0m\u001B[1;33m\u001B[0m\u001B[1;33m\u001B[0m\u001B[0m\n\u001B[0m\u001B[0;32m    389\u001B[0m         )\n\u001B[0;32m    390\u001B[0m         \u001B[0mself\u001B[0m\u001B[1;33m.\u001B[0m\u001B[0m_get_file_writer\u001B[0m\u001B[1;33m(\u001B[0m\u001B[1;33m)\u001B[0m\u001B[1;33m.\u001B[0m\u001B[0madd_summary\u001B[0m\u001B[1;33m(\u001B[0m\u001B[0msummary\u001B[0m\u001B[1;33m,\u001B[0m \u001B[0mglobal_step\u001B[0m\u001B[1;33m,\u001B[0m \u001B[0mwalltime\u001B[0m\u001B[1;33m)\u001B[0m\u001B[1;33m\u001B[0m\u001B[1;33m\u001B[0m\u001B[0m\n",
      "\u001B[1;32m~\\PycharmProjects\\learn_cuda\\venv\\lib\\site-packages\\torch\\utils\\tensorboard\\summary.py\u001B[0m in \u001B[0;36mscalar\u001B[1;34m(name, scalar, collections, new_style, double_precision)\u001B[0m\n\u001B[0;32m    277\u001B[0m       \u001B[0mValueError\u001B[0m\u001B[1;33m:\u001B[0m \u001B[0mIf\u001B[0m \u001B[0mtensor\u001B[0m \u001B[0mhas\u001B[0m \u001B[0mthe\u001B[0m \u001B[0mwrong\u001B[0m \u001B[0mshape\u001B[0m \u001B[1;32mor\u001B[0m \u001B[0mtype\u001B[0m\u001B[1;33m.\u001B[0m\u001B[1;33m\u001B[0m\u001B[1;33m\u001B[0m\u001B[0m\n\u001B[0;32m    278\u001B[0m     \"\"\"\n\u001B[1;32m--> 279\u001B[1;33m     \u001B[0mscalar\u001B[0m \u001B[1;33m=\u001B[0m \u001B[0mmake_np\u001B[0m\u001B[1;33m(\u001B[0m\u001B[0mscalar\u001B[0m\u001B[1;33m)\u001B[0m\u001B[1;33m\u001B[0m\u001B[1;33m\u001B[0m\u001B[0m\n\u001B[0m\u001B[0;32m    280\u001B[0m     \u001B[1;32massert\u001B[0m \u001B[0mscalar\u001B[0m\u001B[1;33m.\u001B[0m\u001B[0msqueeze\u001B[0m\u001B[1;33m(\u001B[0m\u001B[1;33m)\u001B[0m\u001B[1;33m.\u001B[0m\u001B[0mndim\u001B[0m \u001B[1;33m==\u001B[0m \u001B[1;36m0\u001B[0m\u001B[1;33m,\u001B[0m \u001B[1;34m\"scalar should be 0D\"\u001B[0m\u001B[1;33m\u001B[0m\u001B[1;33m\u001B[0m\u001B[0m\n\u001B[0;32m    281\u001B[0m     \u001B[1;31m# python float is double precision in numpy\u001B[0m\u001B[1;33m\u001B[0m\u001B[1;33m\u001B[0m\u001B[1;33m\u001B[0m\u001B[0m\n",
      "\u001B[1;32m~\\PycharmProjects\\learn_cuda\\venv\\lib\\site-packages\\torch\\utils\\tensorboard\\_convert_np.py\u001B[0m in \u001B[0;36mmake_np\u001B[1;34m(x)\u001B[0m\n\u001B[0;32m     21\u001B[0m         \u001B[1;32mreturn\u001B[0m \u001B[0mnp\u001B[0m\u001B[1;33m.\u001B[0m\u001B[0marray\u001B[0m\u001B[1;33m(\u001B[0m\u001B[1;33m[\u001B[0m\u001B[0mx\u001B[0m\u001B[1;33m]\u001B[0m\u001B[1;33m)\u001B[0m\u001B[1;33m\u001B[0m\u001B[1;33m\u001B[0m\u001B[0m\n\u001B[0;32m     22\u001B[0m     \u001B[1;32mif\u001B[0m \u001B[0misinstance\u001B[0m\u001B[1;33m(\u001B[0m\u001B[0mx\u001B[0m\u001B[1;33m,\u001B[0m \u001B[0mtorch\u001B[0m\u001B[1;33m.\u001B[0m\u001B[0mTensor\u001B[0m\u001B[1;33m)\u001B[0m\u001B[1;33m:\u001B[0m\u001B[1;33m\u001B[0m\u001B[1;33m\u001B[0m\u001B[0m\n\u001B[1;32m---> 23\u001B[1;33m         \u001B[1;32mreturn\u001B[0m \u001B[0m_prepare_pytorch\u001B[0m\u001B[1;33m(\u001B[0m\u001B[0mx\u001B[0m\u001B[1;33m)\u001B[0m\u001B[1;33m\u001B[0m\u001B[1;33m\u001B[0m\u001B[0m\n\u001B[0m\u001B[0;32m     24\u001B[0m     raise NotImplementedError(\n\u001B[0;32m     25\u001B[0m         \"Got {}, but numpy array, torch tensor, or caffe2 blob name are expected.\".format(\n",
      "\u001B[1;32m~\\PycharmProjects\\learn_cuda\\venv\\lib\\site-packages\\torch\\utils\\tensorboard\\_convert_np.py\u001B[0m in \u001B[0;36m_prepare_pytorch\u001B[1;34m(x)\u001B[0m\n\u001B[0;32m     30\u001B[0m \u001B[1;33m\u001B[0m\u001B[0m\n\u001B[0;32m     31\u001B[0m \u001B[1;32mdef\u001B[0m \u001B[0m_prepare_pytorch\u001B[0m\u001B[1;33m(\u001B[0m\u001B[0mx\u001B[0m\u001B[1;33m)\u001B[0m\u001B[1;33m:\u001B[0m\u001B[1;33m\u001B[0m\u001B[1;33m\u001B[0m\u001B[0m\n\u001B[1;32m---> 32\u001B[1;33m     \u001B[0mx\u001B[0m \u001B[1;33m=\u001B[0m \u001B[0mx\u001B[0m\u001B[1;33m.\u001B[0m\u001B[0mdetach\u001B[0m\u001B[1;33m(\u001B[0m\u001B[1;33m)\u001B[0m\u001B[1;33m.\u001B[0m\u001B[0mcpu\u001B[0m\u001B[1;33m(\u001B[0m\u001B[1;33m)\u001B[0m\u001B[1;33m.\u001B[0m\u001B[0mnumpy\u001B[0m\u001B[1;33m(\u001B[0m\u001B[1;33m)\u001B[0m\u001B[1;33m\u001B[0m\u001B[1;33m\u001B[0m\u001B[0m\n\u001B[0m\u001B[0;32m     33\u001B[0m     \u001B[1;32mreturn\u001B[0m \u001B[0mx\u001B[0m\u001B[1;33m\u001B[0m\u001B[1;33m\u001B[0m\u001B[0m\n\u001B[0;32m     34\u001B[0m \u001B[1;33m\u001B[0m\u001B[0m\n",
      "\u001B[1;31mKeyboardInterrupt\u001B[0m: "
     ]
    }
   ],
   "source": [
    "for _epoch in range(20):\n",
    "    training_loss = 0.0\n",
    "    for _step, input_data in enumerate(train_loader):\n",
    "        image, label = input_data[0].to(myDevice), input_data[1].to(myDevice)  # GPU加速\n",
    "        predict_label = myModel.forward(image)\n",
    "\n",
    "        loss = myLoss(predict_label, label)\n",
    "\n",
    "        myWriter.add_scalar('training loss', loss, global_step=_epoch * len(train_loader) + _step)\n",
    "\n",
    "        myOptimzier.zero_grad()\n",
    "        loss.backward()\n",
    "        myOptimzier.step()\n",
    "\n",
    "        training_loss = training_loss + loss.item()\n",
    "        if _step % 200 == 0:\n",
    "            print('[iteration - %3d] training loss: %.3f' % (_epoch * len(train_loader) + _step, training_loss / 10))\n",
    "            training_loss = 0.0\n",
    "            print()\n",
    "\n",
    "\n",
    "    correct = 0\n",
    "    total = 0\n",
    "    torch.save(myModel, 'Resnet50_Own.pkl') # 保存整个模型\n",
    "    myModel.eval()\n",
    "    for images, labels in test_loader:\n",
    "        # GPU加速\n",
    "        images = images.to(myDevice)\n",
    "        labels = labels.to(myDevice)\n",
    "        outputs = myModel(images)  # 在非训练的时候是需要加的，没有这句代码，一些网络层的值会发生变动，不会固定\n",
    "        numbers, predicted = torch.max(outputs.data, 1)\n",
    "        total += labels.size(0)\n",
    "        correct += (predicted == labels).sum().item()\n",
    "\n",
    "    print('Testing Accuracy : %.3f %%' % (100 * correct / total))\n",
    "    myWriter.add_scalar('test_Accuracy', 100 * correct / total)"
   ],
   "metadata": {
    "collapsed": false
   }
  },
  {
   "cell_type": "code",
   "execution_count": null,
   "outputs": [],
   "source": [],
   "metadata": {
    "collapsed": false
   }
  }
 ],
 "metadata": {
  "kernelspec": {
   "display_name": "Python 3",
   "language": "python",
   "name": "python3"
  },
  "language_info": {
   "codemirror_mode": {
    "name": "ipython",
    "version": 2
   },
   "file_extension": ".py",
   "mimetype": "text/x-python",
   "name": "python",
   "nbconvert_exporter": "python",
   "pygments_lexer": "ipython2",
   "version": "2.7.6"
  }
 },
 "nbformat": 4,
 "nbformat_minor": 0
}
